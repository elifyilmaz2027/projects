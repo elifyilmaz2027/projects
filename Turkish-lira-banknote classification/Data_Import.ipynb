{
 "cells": [
  {
   "cell_type": "code",
   "execution_count": 1,
   "metadata": {},
   "outputs": [],
   "source": [
    "import numpy as np\n",
    "from PIL import Image\n",
    "import os\n",
    "import cv2"
   ]
  },
  {
   "cell_type": "code",
   "execution_count": 2,
   "metadata": {},
   "outputs": [],
   "source": [
    "X = []\n",
    "\n",
    "Y = []\n",
    "\n",
    "for dirname, _,filenames in os.walk('turkish-lira-banknote-dataset'):\n",
    "        \n",
    "    for name in filenames:\n",
    "            \n",
    "        if name.lower().endswith(('.png')) or name.lower().endswith(('.jpg')) :\n",
    "                \n",
    "            image = cv2.imread(os.path.join(dirname, name))\n",
    "            image_arr = Image.fromarray(image, 'RGB')          \n",
    "            resized = image_arr.resize((32,32))\n",
    "            X.append(np.array(resized))\n",
    "            if '200' in dirname:\n",
    "                Y.append(5)\n",
    "            elif '100' in dirname:\n",
    "                Y.append(4)\n",
    "            elif '50' in dirname:\n",
    "                Y.append(3)\n",
    "            elif '20' in dirname:\n",
    "                Y.append(2)\n",
    "            elif '10' in dirname:\n",
    "                Y.append(1)\n",
    "            else:\n",
    "                Y.append(0)"
   ]
  },
  {
   "cell_type": "code",
   "execution_count": 3,
   "metadata": {},
   "outputs": [
    {
     "data": {
      "text/plain": [
       "(6900, 32, 32, 3)"
      ]
     },
     "execution_count": 3,
     "metadata": {},
     "output_type": "execute_result"
    }
   ],
   "source": [
    "data_x = np.array(X)/255\n",
    "data_y = np.array(Y)\n",
    "data_x.shape"
   ]
  },
  {
   "cell_type": "code",
   "execution_count": 4,
   "metadata": {},
   "outputs": [
    {
     "data": {
      "text/plain": [
       "(6900, 1)"
      ]
     },
     "execution_count": 4,
     "metadata": {},
     "output_type": "execute_result"
    }
   ],
   "source": [
    "data_y = np.reshape(data_y,(6900,1))\n",
    "data_y.shape"
   ]
  },
  {
   "cell_type": "code",
   "execution_count": 5,
   "metadata": {},
   "outputs": [],
   "source": [
    "np.save('./Saves/data_x',data_x)\n",
    "np.save('./Saves/data_y',data_y)"
   ]
  },
  {
   "cell_type": "code",
   "execution_count": 6,
   "metadata": {},
   "outputs": [],
   "source": [
    "X_2 = []\n",
    "\n",
    "Y_2 = []\n",
    "\n",
    "for dirname, _,filenames in os.walk('turkish-lira-banknote-dataset'):\n",
    "        \n",
    "    for name in filenames:\n",
    "            \n",
    "        if name.lower().endswith(('.png')) or name.lower().endswith(('.jpg')) :\n",
    "                \n",
    "            image = cv2.imread(os.path.join(dirname, name))\n",
    "            image_arr = Image.fromarray(image, 'RGB')          \n",
    "            resized = image_arr.resize((224,224))\n",
    "            X_2.append(np.array(resized))\n",
    "            if '200' in dirname:\n",
    "                Y_2.append(5)\n",
    "            elif '100' in dirname:\n",
    "                Y_2.append(4)\n",
    "            elif '50' in dirname:\n",
    "                Y_2.append(3)\n",
    "            elif '20' in dirname:\n",
    "                Y_2.append(2)\n",
    "            elif '10' in dirname:\n",
    "                Y_2.append(1)\n",
    "            else:\n",
    "                Y_2.append(0)"
   ]
  },
  {
   "cell_type": "code",
   "execution_count": 7,
   "metadata": {},
   "outputs": [
    {
     "data": {
      "text/plain": [
       "(6900, 224, 224, 3)"
      ]
     },
     "execution_count": 7,
     "metadata": {},
     "output_type": "execute_result"
    }
   ],
   "source": [
    "data_x_xcept = np.array(X_2)/255\n",
    "data_y_xcept = np.array(Y_2)\n",
    "data_x_xcept.shape"
   ]
  },
  {
   "cell_type": "code",
   "execution_count": 8,
   "metadata": {},
   "outputs": [
    {
     "data": {
      "text/plain": [
       "(6900, 1)"
      ]
     },
     "execution_count": 8,
     "metadata": {},
     "output_type": "execute_result"
    }
   ],
   "source": [
    "data_y_xcept = np.reshape(data_y_xcept,(6900,1))\n",
    "data_y_xcept.shape"
   ]
  },
  {
   "cell_type": "code",
   "execution_count": 9,
   "metadata": {},
   "outputs": [],
   "source": [
    "np.save('./Saves/data_x_xcept',data_x_xcept)\n",
    "np.save('./Saves/data_y_xcept',data_y_xcept)"
   ]
  }
 ],
 "metadata": {
  "kernelspec": {
   "display_name": "Python 3",
   "language": "python",
   "name": "python3"
  },
  "language_info": {
   "codemirror_mode": {
    "name": "ipython",
    "version": 3
   },
   "file_extension": ".py",
   "mimetype": "text/x-python",
   "name": "python",
   "nbconvert_exporter": "python",
   "pygments_lexer": "ipython3",
   "version": "3.7.6"
  }
 },
 "nbformat": 4,
 "nbformat_minor": 4
}
